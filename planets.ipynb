{
 "cells": [
  {
   "cell_type": "code",
   "execution_count": 174,
   "id": "d0d90535-319a-4c0c-af38-3d480eee0e87",
   "metadata": {},
   "outputs": [],
   "source": [
    "import numpy as np\n",
    "import matplotlib.pyplot as plt\n",
    "from tkinter import *\n",
    "import time"
   ]
  },
  {
   "cell_type": "code",
   "execution_count": 40,
   "id": "60d60792-6fa1-4e35-b599-fa0493248260",
   "metadata": {},
   "outputs": [],
   "source": [
    "class Vector2:\n",
    "    def __init__(self, x: float, y: float):\n",
    "        self.x = x\n",
    "        self.y = y\n",
    "\n",
    "    def __str__(self):\n",
    "        return f\"({self.x}, {self.y})\"\n",
    "    \n",
    "    def __add__(self, other):\n",
    "        if isinstance(other, Vector2):\n",
    "            return Vector2(self.x+other.x, self.y+other.y)\n",
    "        elif isinstance(other, (int, float)):\n",
    "            return Vector2(self.x+other, self.y+other)\n",
    "        else:\n",
    "            raise TypeError(\"Unsupported operand type for +\")\n",
    "\n",
    "    def __sub__(self, other):\n",
    "        if isinstance(other, Vector2):\n",
    "            return Vector2(self.x-other.x, self.y-other.y)\n",
    "        elif isinstance(other, (int, float)):\n",
    "            return Vector2(self.x-other, self.y-other)\n",
    "        else:\n",
    "            raise TypeError(\"Unsupported operand type for -\")\n",
    "\n",
    "    def __mul__(self, other):\n",
    "        if isinstance(other, Vector2):\n",
    "            return Vector2(self.x*other.x, self.y*other.y)\n",
    "        elif isinstance(other, (int, float)):\n",
    "            return Vector2(self.x*other, self.y*other)\n",
    "        else:\n",
    "            raise TypeError(\"Unsupported operand type for *\")\n",
    "\n",
    "    def __rmul__(self, scalar):\n",
    "        return self.__mul__(scalar)\n",
    "\n",
    "    def dot_product(self, other: Vector2):\n",
    "        return (self.x * other.x) + (self.y * other.y)\n",
    "\n",
    "    def cross_product(self, other: Vector2):\n",
    "        return (self.x*other.y)-(self.y*other.x)\n",
    "\n",
    "    def magnitude(self):\n",
    "        return (self.x**2 + self.y**2) **0.5"
   ]
  },
  {
   "cell_type": "code",
   "execution_count": 257,
   "id": "c13e50c5-1081-4b85-bb05-8eb38e91d62b",
   "metadata": {},
   "outputs": [],
   "source": [
    "class Planet:\n",
    "    def __init__(self, mass: float, initial_speed: Vector2, initial_location: Vector2):\n",
    "        self.mass = mass\n",
    "        self.speed = initial_speed\n",
    "        self.position = initial_location\n",
    "        self.initial_speed = initial_speed\n",
    "        self.initial_position = initial_location\n",
    "        self.position_weight = self.position*mass\n",
    "\n",
    "    def Precess(self, force: Vector2, time: float):\n",
    "        acceleration = force*(1/self.mass)\n",
    "        self.speed += acceleration * time\n",
    "        self.position += self.speed * time\n"
   ]
  },
  {
   "cell_type": "code",
   "execution_count": 36,
   "id": "ed9f3353-8a04-4aac-87a9-e0c2174d4706",
   "metadata": {},
   "outputs": [],
   "source": [
    "def calculate_gravitational_force(planet1: Planet, planet2: Planet):\n",
    "    G = 6.674e-11\n",
    "    distance_vector = planet2.position - planet1.position\n",
    "    distance = distance_vector.magnitude()\n",
    "\n",
    "    force_magnitude = (G*planet1.mass*planet2.mass)/(distance**2)\n",
    "    force_direction = distance_vector*(1/distance)\n",
    "    return force_magnitude*force_direction"
   ]
  },
  {
   "cell_type": "code",
   "execution_count": 188,
   "id": "2c5c376e-f876-414e-b11c-b12d6fcdf08a",
   "metadata": {},
   "outputs": [],
   "source": [
    "sun_pos = Vector2(0,0)\n",
    "sun_vel = Vector2(0,0)\n",
    "sun = Planet(mass = 2e30, initial_speed = sun_vel, initial_location = sun_pos) \n",
    "\n",
    "earth_pos = Vector2(151e6, 0)\n",
    "\n",
    "v0 = (G*sun.mass/earth_pos.x)**0.5 # Apprx orbital velocity based on \n",
    "\n",
    "earth_vel = Vector2(0, v0)\n",
    "earth = Planet(mass = 2e30, initial_speed = earth_vel, initial_location = earth_pos)\n",
    "\n",
    "time_interval = 0.1\n",
    "\n",
    "for _ in range(0, 1000):\n",
    "    start = time.time()\n",
    "    force_earth_sun = calculate_gravitational_force(earth, sun)\n",
    "    force_sun_earth = calculate_gravitational_force(sun, earth)\n",
    "\n",
    "    earth.Precess(force_earth_sun, time_interval)\n",
    "    sun.Precess(force_sun_earth, time_interval)\n",
    "    end = time.time()\n",
    "    time_interval = end-start"
   ]
  },
  {
   "cell_type": "code",
   "execution_count": 320,
   "id": "8db8a31b-735c-4687-a11d-228abf7f8dac",
   "metadata": {
    "scrolled": true
   },
   "outputs": [],
   "source": [
    "def drawPlanet(canvas, coords: Vector2, name):\n",
    "    canvas.delete(f'{name}')\n",
    "    x0, y0, x1, y1 = coords.x-2.5, coords.y-2.5, coords.x+2.5, coords.y+2.5\n",
    "    canvas.create_oval(x0, y0, x1, y1, outline='black', fill='blue', tags=f'{name}')\n",
    "\n",
    "def drawLine(canvas, old_coords, new_coords):\n",
    "    canvas.create_line(old_coords.x, old_coords.y, new_coords.x, new_coords.y, fill='red', width=2)\n",
    "\n",
    "def calc_planet_positions(p1:Planet, p2:Planet, time_interval):\n",
    "    force_p1_p2 = calculate_gravitational_force(p1, p2)\n",
    "    force_p2_p1 = calculate_gravitational_force(p2, p1)\n",
    "\n",
    "    p1.Precess(force_p1_p2, time_interval)\n",
    "    p2.Precess(force_p2_p1, time_interval)\n",
    "\n",
    "def planetCoordsToCOM(p1: Planet, p2: Planet):\n",
    "    x_com = ((p1.mass*p1.position.x)+(p2.mass*p2.position.x))/(p1.mass+p2.mass)\n",
    "    y_com = ((p1.mass*p1.position.y)+(p2.mass*p2.position.y))/(p1.mass+p2.mass)\n",
    "\n",
    "    com = Vector2(x_com, y_com)\n",
    "\n",
    "    rel_pos1 = p1.position-com\n",
    "    rel_pos2 = p2.position-com\n",
    "\n",
    "    return rel_pos1, rel_pos2\n",
    "\n",
    "\n",
    "def planetsToCanvasCoords(p1: Planet, p2: Planet):\n",
    "    p1_com, p2_com = planetCoordsToCOM(p1, p2)\n",
    "    larger_val = max(abs(p1_com.magnitude()), abs(p2_com.magnitude()))\n",
    "    max_val = larger_val*1.1\n",
    "    \n",
    "    p1_ratio = (p1.position*(1/max_val))\n",
    "    p2_ratio = (p2.position*(1/max_val))\n",
    "    \n",
    "    p1_coords = (500*p1_ratio)\n",
    "    p2_coords = (500*p2_ratio)\n",
    "\n",
    "    return p1_coords, p2_coords\n",
    "\n",
    "\n",
    "def precessPlanets(canvas, planet1: Planet, planet2: Planet):\n",
    "    #p1_prev_pos, p2_prev_pos = planetsToCanvasCoords(planet1, planet2)\n",
    "    calc_planet_positions(planet1, planet2, 0.01)\n",
    "    p1_coords, p2_coords = planetsToCanvasCoords(planet1, planet2)\n",
    "    drawPlanet(canvas, p1_coords, 'p1')\n",
    "    #drawLine(canvas, p1_prev_pos, p1_coords)\n",
    "    drawPlanet(canvas, p2_coords, 'p2')\n",
    "    #drawLine(canvas, p2_prev_pos, p2_coords)\n",
    "    canvas.after(1, precessPlanets, canvas, planet1, planet2)\n",
    "\n",
    "root = Tk()\n",
    "root.title(\"Simulation\")\n",
    "\n",
    "sun_pos = Vector2(0,0)\n",
    "sun_vel = Vector2(0,0)\n",
    "sun = Planet(mass = 2e30, initial_speed = sun_vel, initial_location = sun_pos) \n",
    "\n",
    "earth_pos = Vector2(151e6, 0)\n",
    "\n",
    "v0 = (G*sun.mass/earth_pos.x)**0.5 # Apprx orbital velocity based on \n",
    "\n",
    "earth_vel = Vector2(0, v0)\n",
    "earth = Planet(mass = 2e30, initial_speed = earth_vel, initial_location = earth_pos)\n",
    "\n",
    "#canvas\n",
    "canvas = Canvas(root, width = 1000, height = 1000, bg='white')\n",
    "canvas.pack()\n",
    "\n",
    "precessPlanets(canvas, sun, earth)\n",
    "\n",
    "root.mainloop()"
   ]
  },
  {
   "cell_type": "code",
   "execution_count": 326,
   "id": "43741fbd-1bdc-4794-bb7f-8f33089fb873",
   "metadata": {},
   "outputs": [
    {
     "name": "stdout",
     "output_type": "stream",
     "text": [
      "83050000.0\n",
      "p1_rat:(-0.9090909090909091, 0.0)\n",
      "p2_rat:(0.9090909090909091, 0.0)\n",
      "p1_coords:(-1409.090909090909, -500.0)\n",
      "p2_coords:(409.090909090909, -500.0)\n"
     ]
    }
   ],
   "source": [
    "sun_pos = Vector2(0,0)\n",
    "sun_vel = Vector2(0,0)\n",
    "sun = Planet(mass = 2e30, initial_speed = sun_vel, initial_location = sun_pos) \n",
    "\n",
    "earth_pos = Vector2(151e6, 0)\n",
    "\n",
    "v0 = (G*sun.mass/earth_pos.x)**0.5 # Apprx orbital velocity based on \n",
    "\n",
    "earth_vel = Vector2(0, v0)\n",
    "earth = Planet(mass = 2e30, initial_speed = earth_vel, initial_location = earth_pos)\n",
    "\n",
    "a, b = planetCoordsToCOM(sun ,earth)\n",
    "c, d = planetsToCanvasCoords2(a,b)"
   ]
  },
  {
   "cell_type": "code",
   "execution_count": 325,
   "id": "3dc21876-4ced-4886-a235-97c84bf88724",
   "metadata": {},
   "outputs": [],
   "source": [
    "def planetsToCanvasCoords2(p1: Vector2, p2: Vector2):\n",
    "    #p1_com, p2_com = planetCoordsToCOM(p1, p2)\n",
    "    larger_val = max(abs(p1.magnitude()), abs(p2.magnitude()))\n",
    "    max_val = larger_val*1.1\n",
    "    print(max_val)\n",
    "    \n",
    "    p1_ratio = (p1*(1/max_val))\n",
    "    print(f'p1_rat:{p1_ratio}')\n",
    "    p2_ratio = (p2*(1/max_val))\n",
    "    print(f'p2_rat:{p2_ratio}')\n",
    "    \n",
    "    p1_coords = (1000*p1_ratio)-500\n",
    "    print(f'p1_coords:{p1_coords}')\n",
    "    p2_coords = (1000*p2_ratio)-500\n",
    "    print(f'p2_coords:{p2_coords}')\n",
    "    \n",
    "    return p1_coords, p2_coords"
   ]
  },
  {
   "cell_type": "code",
   "execution_count": 306,
   "id": "03947301-3676-4cc2-a5e8-8f8faa92a01c",
   "metadata": {},
   "outputs": [
    {
     "name": "stdout",
     "output_type": "stream",
     "text": [
      "(-64005641.70045313, -27723878.543134626)\n",
      "(64005641.70045312, 27723878.54313463)\n"
     ]
    }
   ],
   "source": [
    "print(a)\n",
    "print(b)"
   ]
  },
  {
   "cell_type": "code",
   "execution_count": 307,
   "id": "ac103954-a679-488e-a3da-c2670aaf7dbf",
   "metadata": {},
   "outputs": [
    {
     "name": "stdout",
     "output_type": "stream",
     "text": [
      "(82.90097603453023, 319.3346340468481)\n",
      "(917.0990239654698, 680.6653659531519)\n"
     ]
    }
   ],
   "source": [
    "print(c)\n",
    "print(d)"
   ]
  },
  {
   "cell_type": "code",
   "execution_count": null,
   "id": "5e9160e8-4b0a-41dc-9a34-fa4dc4396177",
   "metadata": {},
   "outputs": [],
   "source": []
  }
 ],
 "metadata": {
  "kernelspec": {
   "display_name": "Python 3 (ipykernel)",
   "language": "python",
   "name": "python3"
  },
  "language_info": {
   "codemirror_mode": {
    "name": "ipython",
    "version": 3
   },
   "file_extension": ".py",
   "mimetype": "text/x-python",
   "name": "python",
   "nbconvert_exporter": "python",
   "pygments_lexer": "ipython3",
   "version": "3.12.0"
  }
 },
 "nbformat": 4,
 "nbformat_minor": 5
}
